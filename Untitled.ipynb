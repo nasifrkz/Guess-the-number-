{
 "cells": [
  {
   "cell_type": "code",
   "execution_count": 1,
   "id": "fbb1caec-03a2-483e-8ab8-141953d20487",
   "metadata": {},
   "outputs": [
    {
     "name": "stdout",
     "output_type": "stream",
     "text": [
      "hello world\n"
     ]
    }
   ],
   "source": [
    "print(\"hello world\")"
   ]
  },
  {
   "cell_type": "code",
   "execution_count": 2,
   "id": "bb63aa26-049e-47f9-8ffa-d573e4a1e91e",
   "metadata": {},
   "outputs": [
    {
     "name": "stdout",
     "output_type": "stream",
     "text": [
      "more than one\n",
      "less than one\n",
      "all done\n"
     ]
    }
   ],
   "source": [
    "x=42 \n",
    "if x>1:\n",
    "    print(\"more than one\")\n",
    "    if x<100:\n",
    "        print(\"less than one\")\n",
    "        \n",
    "print(\"all done\")"
   ]
  },
  {
   "cell_type": "code",
   "execution_count": 3,
   "id": "bd99e6c9-6b0a-41e1-9069-2a1f8fbe59ed",
   "metadata": {},
   "outputs": [
    {
     "name": "stdout",
     "output_type": "stream",
     "text": [
      "less than target\n",
      "Done\n"
     ]
    }
   ],
   "source": [
    "x = 45\n",
    "if x>45:\n",
    "    print(\"better than target\")\n",
    "else:\n",
    "    print(\"less than target\")\n",
    "    \n",
    "print(\"Done\")"
   ]
  },
  {
   "cell_type": "code",
   "execution_count": 4,
   "id": "b766b0cb-69fb-45b0-9264-db5157c275e6",
   "metadata": {},
   "outputs": [
    {
     "name": "stdout",
     "output_type": "stream",
     "text": [
      "Hello world\n",
      "Where is your mark 2?\n",
      "hello from the other side\n",
      "Hello world\n",
      "Where is your mark 2?\n"
     ]
    }
   ],
   "source": [
    "def nasif():\n",
    "    print(\"Hello world\")\n",
    "    print(\"Where is your mark 2?\")\n",
    "    \n",
    "nasif()\n",
    "print(\"hello from the other side\")\n",
    "nasif()\n"
   ]
  },
  {
   "cell_type": "code",
   "execution_count": null,
   "id": "e4a19018-dbee-48fe-9bcc-1a52cf2cc9e4",
   "metadata": {},
   "outputs": [],
   "source": []
  }
 ],
 "metadata": {
  "kernelspec": {
   "display_name": "Python 3 (ipykernel)",
   "language": "python",
   "name": "python3"
  },
  "language_info": {
   "codemirror_mode": {
    "name": "ipython",
    "version": 3
   },
   "file_extension": ".py",
   "mimetype": "text/x-python",
   "name": "python",
   "nbconvert_exporter": "python",
   "pygments_lexer": "ipython3",
   "version": "3.9.13"
  }
 },
 "nbformat": 4,
 "nbformat_minor": 5
}
